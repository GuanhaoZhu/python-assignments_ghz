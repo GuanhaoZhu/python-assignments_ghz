{
 "cells": [
  {
   "cell_type": "markdown",
   "id": "000b0618",
   "metadata": {},
   "source": [
    "# Object Oriented Programming"
   ]
  },
  {
   "cell_type": "code",
   "execution_count": 4,
   "id": "97d04489",
   "metadata": {},
   "outputs": [
    {
     "name": "stdout",
     "output_type": "stream",
     "text": [
      "<class 'int'>\n",
      "<class 'list'>\n",
      "<class 'tuple'>\n",
      "<class 'dict'>\n"
     ]
    }
   ],
   "source": [
    "print(type(1))\n",
    "print(type([]))\n",
    "print(type(()))\n",
    "print(type({}))"
   ]
  },
  {
   "cell_type": "code",
   "execution_count": 6,
   "id": "1acf330d",
   "metadata": {},
   "outputs": [
    {
     "name": "stdout",
     "output_type": "stream",
     "text": [
      "<class '__main__.MyObject'>\n"
     ]
    }
   ],
   "source": [
    "class MyObject:\n",
    "    pass\n",
    "\n",
    "x = MyObject()\n",
    "print(type(x))"
   ]
  },
  {
   "cell_type": "code",
   "execution_count": 7,
   "id": "fbfc37c4",
   "metadata": {},
   "outputs": [],
   "source": [
    "class ClassName:\n",
    "    \n",
    "    def __init__(self):\n",
    "        return\n",
    "    \n",
    "    def method(self):\n",
    "        return"
   ]
  },
  {
   "cell_type": "code",
   "execution_count": 10,
   "id": "914e1862",
   "metadata": {},
   "outputs": [],
   "source": [
    "class ClassName:\n",
    "    \n",
    "    def __init__(self, firstAttribute, secondAttribute, thirdAttribute):\n",
    "        self.firstAttribute = firstAttribute\n",
    "        self.secondAttribute = secondAttribute\n",
    "        self.thirdAttribute = thirdAttribute\n",
    "    \n",
    "classInstancel = ClassName(1,2,3)"
   ]
  },
  {
   "cell_type": "code",
   "execution_count": 12,
   "id": "f4cfec01",
   "metadata": {},
   "outputs": [
    {
     "name": "stdout",
     "output_type": "stream",
     "text": [
      "1\n",
      "2\n",
      "3\n"
     ]
    }
   ],
   "source": [
    "print(classInstancel.firstAttribute)\n",
    "print(classInstancel.secondAttribute)\n",
    "print(classInstancel.thirdAttribute)"
   ]
  },
  {
   "cell_type": "code",
   "execution_count": 16,
   "id": "11238470",
   "metadata": {},
   "outputs": [],
   "source": [
    "class Dog:\n",
    "    \n",
    "    species = 'animal'\n",
    "    def __init__(self,breed,name):\n",
    "        self.breed = breed\n",
    "        self.name = name\n"
   ]
  },
  {
   "cell_type": "code",
   "execution_count": 17,
   "id": "8d897f24",
   "metadata": {},
   "outputs": [],
   "source": [
    "teddy = Dog(breed = \"Cavelier\", name = 'Teddy')"
   ]
  },
  {
   "cell_type": "code",
   "execution_count": 18,
   "id": "16d78534",
   "metadata": {},
   "outputs": [
    {
     "data": {
      "text/plain": [
       "'Teddy'"
      ]
     },
     "execution_count": 18,
     "metadata": {},
     "output_type": "execute_result"
    }
   ],
   "source": [
    "teddy.name"
   ]
  },
  {
   "cell_type": "code",
   "execution_count": 19,
   "id": "26c02c09",
   "metadata": {},
   "outputs": [
    {
     "data": {
      "text/plain": [
       "'animal'"
      ]
     },
     "execution_count": 19,
     "metadata": {},
     "output_type": "execute_result"
    }
   ],
   "source": [
    "teddy.species"
   ]
  },
  {
   "cell_type": "code",
   "execution_count": 20,
   "id": "08ac5305",
   "metadata": {},
   "outputs": [],
   "source": [
    "class ClassName:\n",
    "    \n",
    "    def __init__(self,num1,num2):\n",
    "        self.num1 = num1\n",
    "        self.num2 = num2\n",
    "        \n",
    "    def sum(self):\n",
    "        return self.num1 + self.num2"
   ]
  },
  {
   "cell_type": "code",
   "execution_count": 21,
   "id": "a4e86390",
   "metadata": {},
   "outputs": [
    {
     "name": "stdout",
     "output_type": "stream",
     "text": [
      "3\n"
     ]
    }
   ],
   "source": [
    "instance = ClassName(1,2)\n",
    "print(instance.sum())"
   ]
  },
  {
   "cell_type": "code",
   "execution_count": 13,
   "id": "d98acaa5",
   "metadata": {},
   "outputs": [
    {
     "data": {
      "text/plain": [
       "62.800000000000004"
      ]
     },
     "execution_count": 13,
     "metadata": {},
     "output_type": "execute_result"
    }
   ],
   "source": [
    "class Circle:\n",
    "    \n",
    "    pi = 3.14\n",
    "    \n",
    "    def __init__(self, radius=1):\n",
    "        self.radius = radius\n",
    "        self.area = radius * radius * self.pi\n",
    "        \n",
    "    def getCircumference(self):\n",
    "        return self.radius * self.pi*2\n",
    "    \n",
    "    def getArea(self):\n",
    "        return self.radius*self.radius*self.pi\n",
    "    \n",
    "my_circle = Circle(10)\n",
    "new_circle = Circle(20)\n",
    "\n",
    "my_circle.pi\n",
    "\n",
    "my_circle.radius\n",
    "\n",
    "my_circle.getCircumference()"
   ]
  },
  {
   "cell_type": "code",
   "execution_count": 14,
   "id": "46d964f7",
   "metadata": {},
   "outputs": [
    {
     "data": {
      "text/plain": [
       "20"
      ]
     },
     "execution_count": 14,
     "metadata": {},
     "output_type": "execute_result"
    }
   ],
   "source": [
    "\n",
    "new_circle.radius"
   ]
  },
  {
   "cell_type": "code",
   "execution_count": 15,
   "id": "1dcf9ef4",
   "metadata": {},
   "outputs": [
    {
     "data": {
      "text/plain": [
       "125.60000000000001"
      ]
     },
     "execution_count": 15,
     "metadata": {},
     "output_type": "execute_result"
    }
   ],
   "source": [
    "new_circle.getCircumference()"
   ]
  },
  {
   "cell_type": "code",
   "execution_count": 16,
   "id": "9484f6f5",
   "metadata": {},
   "outputs": [
    {
     "data": {
      "text/plain": [
       "1256.0"
      ]
     },
     "execution_count": 16,
     "metadata": {},
     "output_type": "execute_result"
    }
   ],
   "source": [
    "new_circle.getArea()"
   ]
  },
  {
   "cell_type": "code",
   "execution_count": 19,
   "id": "055e7a85",
   "metadata": {},
   "outputs": [
    {
     "name": "stdout",
     "output_type": "stream",
     "text": [
      "Animal created\n",
      "dog create\n",
      "Dog\n",
      "Woof, woof\n"
     ]
    }
   ],
   "source": [
    "class Animal:\n",
    "    # the init method automatically gets executed when you create animal \n",
    "    def __init__(self):\n",
    "        print(\"Animal created\")\n",
    "\n",
    "    def whatAmI(self):\n",
    "        print(\"Animal\")\n",
    "\n",
    "    def eat(self):\n",
    "        print(\"Eating\")\n",
    "        \n",
    "# derived class(child)\n",
    "\n",
    "class Dog(Animal):\n",
    "    \n",
    "    def __init__(self):\n",
    "        Animal.__init__(self)\n",
    "        print(\"dog create\")\n",
    "        \n",
    "    # this will override old method in Animal \n",
    "    def whatAmI(self):\n",
    "        print(\"Dog\")\n",
    "\n",
    "    #this is a new method unique to this derived class \n",
    "    def bark(self):\n",
    "        print(\"Woof, woof\")\n",
    "        \n",
    "d = Dog()\n",
    "d.whatAmI()\n",
    "d.bark()"
   ]
  },
  {
   "cell_type": "code",
   "execution_count": 20,
   "id": "017f0e20",
   "metadata": {},
   "outputs": [],
   "source": [
    "# A square is a subclass of a rectangle \n",
    "\n",
    "class Rectangle:\n",
    "    def __init__(self, length, width):\n",
    "        self.length = length\n",
    "        self.width = width\n",
    "\n",
    "    def area(self):\n",
    "        return self.length * self.width\n",
    "\n",
    "    def perimeter(self):\n",
    "        return 2 * self.length + 2 * self.width\n",
    "\n",
    "class Square:\n",
    "    def __init__(self, length):\n",
    "        self.length = length\n",
    "\n",
    "    def area(self):\n",
    "        return self.length * self.length\n",
    "\n",
    "    def perimeter(self):\n",
    "        return 4 * self.length"
   ]
  },
  {
   "cell_type": "code",
   "execution_count": 21,
   "id": "3f934adc",
   "metadata": {},
   "outputs": [],
   "source": [
    "square = Square(4)"
   ]
  },
  {
   "cell_type": "code",
   "execution_count": 22,
   "id": "703a0b3e",
   "metadata": {},
   "outputs": [
    {
     "data": {
      "text/plain": [
       "16"
      ]
     },
     "execution_count": 22,
     "metadata": {},
     "output_type": "execute_result"
    }
   ],
   "source": [
    "square.area()"
   ]
  },
  {
   "cell_type": "code",
   "execution_count": 23,
   "id": "9e78d91b",
   "metadata": {},
   "outputs": [],
   "source": [
    "#with super() \n",
    "class Rectangle: #super class \n",
    "    def __init__(self, length, width):\n",
    "        self.length = length\n",
    "        self.width = width\n",
    "\n",
    "    def area(self):\n",
    "        return self.length * self.width\n",
    "\n",
    "    def perimeter(self):\n",
    "        return 2 * self.length + 2 * self.width\n",
    "\n",
    "# Here we declare that the Square class inherits from the Rectangle class\n",
    "class Square(Rectangle): #subclass \n",
    "    def __init__(self, length):\n",
    "        super().__init__(length, length) #similar to using Animal above \n",
    "        # we're passing in the inheritance from the parent (rectangle) to the child (square)\n",
    "        \n",
    "        \n",
    "#The super() function is used to give access to methods and properties of a parent or sibling class.\n",
    "# The super() function returns an object that represents the parent class. "
   ]
  },
  {
   "cell_type": "code",
   "execution_count": 24,
   "id": "9c722e31",
   "metadata": {},
   "outputs": [],
   "source": [
    "class Dog:\n",
    "    def __init__(self, name):\n",
    "        self.name = name\n",
    "\n",
    "    def speak(self):\n",
    "        return self.name+' says Woof!'\n",
    "    \n",
    "class Cat:\n",
    "    def __init__(self, name):\n",
    "        self.name = name\n",
    "\n",
    "    def speak(self):\n",
    "        return self.name+' says Meow!' \n",
    "\n",
    "# declare \n",
    "teddy = Dog('teddy')\n",
    "shadow = Cat('shadow')"
   ]
  },
  {
   "cell_type": "code",
   "execution_count": 25,
   "id": "ced10bdf",
   "metadata": {},
   "outputs": [
    {
     "name": "stdout",
     "output_type": "stream",
     "text": [
      "teddy says Woof!\n",
      "shadow says Meow!\n"
     ]
    }
   ],
   "source": [
    "#Here we have a Dog class and a Cat class, and each has a .speak() method. When called, each object's .speak() method returns a result unique to the object.\n",
    "print(teddy.speak())\n",
    "print(shadow.speak())\n"
   ]
  },
  {
   "cell_type": "code",
   "execution_count": 26,
   "id": "fc4c2105",
   "metadata": {},
   "outputs": [
    {
     "name": "stdout",
     "output_type": "stream",
     "text": [
      "teddy says Woof!\n",
      "shadow says Meow!\n"
     ]
    }
   ],
   "source": [
    "#demostrating polymorphism through iteration \n",
    "for pet in [teddy,shadow]:\n",
    "    print(pet.speak())"
   ]
  },
  {
   "cell_type": "code",
   "execution_count": 27,
   "id": "393683aa",
   "metadata": {},
   "outputs": [
    {
     "name": "stdout",
     "output_type": "stream",
     "text": [
      "teddy says Woof!\n",
      "shadow says Meow!\n"
     ]
    }
   ],
   "source": [
    "#polymorphism through function \n",
    "#the function doesnt know if you're going to pass through a dog or cat class \n",
    "#because both class share same function, we can use this through polymorphism \n",
    "def pet_speak(pet):\n",
    "    print(pet.speak())\n",
    "    \n",
    "pet_speak(teddy)\n",
    "pet_speak(shadow)"
   ]
  },
  {
   "cell_type": "code",
   "execution_count": 32,
   "id": "28591b05",
   "metadata": {},
   "outputs": [
    {
     "name": "stdout",
     "output_type": "stream",
     "text": [
      "teddysays woof\n"
     ]
    }
   ],
   "source": [
    "class Dog(Pet):\n",
    "    def speak(self):\n",
    "        return self.name + 'says woof'\n",
    "    \n",
    "class Cat(Pet):\n",
    "    def speak(slef):\n",
    "        return self.name + 'says meow'\n",
    "    \n",
    "teddy = Dog('teddy')\n",
    "shadow = Cat('shadow')\n",
    "print(teddy.speak())"
   ]
  },
  {
   "cell_type": "code",
   "execution_count": 33,
   "id": "82df52b3",
   "metadata": {},
   "outputs": [
    {
     "data": {
      "text/plain": [
       "3"
      ]
     },
     "execution_count": 33,
     "metadata": {},
     "output_type": "execute_result"
    }
   ],
   "source": [
    "mylist = [1,3,4]\n",
    "len(mylist)"
   ]
  },
  {
   "cell_type": "code",
   "execution_count": 36,
   "id": "0496f922",
   "metadata": {},
   "outputs": [
    {
     "name": "stdout",
     "output_type": "stream",
     "text": [
      "Unbearable Lightness of Being by Milan Kundera, pages: 323\n"
     ]
    }
   ],
   "source": [
    "\n",
    "class Book():\n",
    "    def __init__(self, title, author, pages):\n",
    "        self.title = title\n",
    "        self.author = author\n",
    "        self.pages = pages\n",
    "        \n",
    "    def __len__(self):\n",
    "        return self.pages\n",
    "    \n",
    "    def __str__(self):\n",
    "        return f\"{self.title} by {self.author}, pages: {self.pages}\"\n",
    "        \n",
    "    def __del__(self):\n",
    "        print(\"delete book from memory\")\n",
    "        \n",
    "mybook = Book('Unbearable Lightness of Being', 'Milan Kundera',323)\n",
    "print(mybook)"
   ]
  },
  {
   "cell_type": "code",
   "execution_count": null,
   "id": "3f9d8cc7",
   "metadata": {},
   "outputs": [],
   "source": []
  }
 ],
 "metadata": {
  "kernelspec": {
   "display_name": "Python 3 (ipykernel)",
   "language": "python",
   "name": "python3"
  },
  "language_info": {
   "codemirror_mode": {
    "name": "ipython",
    "version": 3
   },
   "file_extension": ".py",
   "mimetype": "text/x-python",
   "name": "python",
   "nbconvert_exporter": "python",
   "pygments_lexer": "ipython3",
   "version": "3.9.0"
  }
 },
 "nbformat": 4,
 "nbformat_minor": 5
}
