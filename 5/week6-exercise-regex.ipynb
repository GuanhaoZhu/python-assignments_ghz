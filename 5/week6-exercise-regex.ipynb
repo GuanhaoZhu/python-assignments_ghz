{
 "cells": [
  {
   "cell_type": "code",
   "execution_count": 1,
   "id": "810d6aba",
   "metadata": {},
   "outputs": [],
   "source": [
    "import re"
   ]
  },
  {
   "cell_type": "code",
   "execution_count": 8,
   "id": "4fbe06ee",
   "metadata": {},
   "outputs": [],
   "source": [
    "text = 'Call my phone at 646-666-1234! That is my phone number'"
   ]
  },
  {
   "cell_type": "code",
   "execution_count": 9,
   "id": "b75c4967",
   "metadata": {},
   "outputs": [],
   "source": [
    "pattern = 'phone'"
   ]
  },
  {
   "cell_type": "code",
   "execution_count": 10,
   "id": "281d5f37",
   "metadata": {},
   "outputs": [],
   "source": [
    "match = re.search(pattern,text) "
   ]
  },
  {
   "cell_type": "code",
   "execution_count": 11,
   "id": "0e25ad6a",
   "metadata": {},
   "outputs": [
    {
     "data": {
      "text/plain": [
       "(8, 13)"
      ]
     },
     "execution_count": 11,
     "metadata": {},
     "output_type": "execute_result"
    }
   ],
   "source": [
    "match.span()"
   ]
  },
  {
   "cell_type": "code",
   "execution_count": 12,
   "id": "72838972",
   "metadata": {},
   "outputs": [
    {
     "data": {
      "text/plain": [
       "'phone'"
      ]
     },
     "execution_count": 12,
     "metadata": {},
     "output_type": "execute_result"
    }
   ],
   "source": [
    "match.group() #just check it's existing"
   ]
  },
  {
   "cell_type": "code",
   "execution_count": 13,
   "id": "2167374c",
   "metadata": {},
   "outputs": [],
   "source": [
    "match = re.findall(\"phone\",text)"
   ]
  },
  {
   "cell_type": "code",
   "execution_count": 14,
   "id": "abc63bd1",
   "metadata": {},
   "outputs": [
    {
     "data": {
      "text/plain": [
       "['phone', 'phone']"
      ]
     },
     "execution_count": 14,
     "metadata": {},
     "output_type": "execute_result"
    }
   ],
   "source": [
    "match"
   ]
  },
  {
   "cell_type": "code",
   "execution_count": 15,
   "id": "0692d16b",
   "metadata": {},
   "outputs": [],
   "source": [
    "text = 'Call my phone at 646-666-1234!'"
   ]
  },
  {
   "cell_type": "code",
   "execution_count": 22,
   "id": "1ecee6c0",
   "metadata": {},
   "outputs": [],
   "source": [
    "phone1 = re.search(r'\\d\\d\\d-\\d\\d\\d-\\d\\d\\d\\d',text)"
   ]
  },
  {
   "cell_type": "code",
   "execution_count": 23,
   "id": "1300dd8a",
   "metadata": {},
   "outputs": [],
   "source": [
    "phone2 = re.search(r'\\d{3}-\\d{3}-\\d{4}',text)"
   ]
  },
  {
   "cell_type": "code",
   "execution_count": 24,
   "id": "b1944dd4",
   "metadata": {},
   "outputs": [
    {
     "data": {
      "text/plain": [
       "<re.Match object; span=(17, 29), match='646-666-1234'>"
      ]
     },
     "execution_count": 24,
     "metadata": {},
     "output_type": "execute_result"
    }
   ],
   "source": [
    "phone1"
   ]
  },
  {
   "cell_type": "code",
   "execution_count": 25,
   "id": "2c0643a8",
   "metadata": {},
   "outputs": [
    {
     "data": {
      "text/plain": [
       "<re.Match object; span=(17, 29), match='646-666-1234'>"
      ]
     },
     "execution_count": 25,
     "metadata": {},
     "output_type": "execute_result"
    }
   ],
   "source": [
    "phone2"
   ]
  },
  {
   "cell_type": "code",
   "execution_count": 26,
   "id": "1c935426",
   "metadata": {},
   "outputs": [
    {
     "data": {
      "text/plain": [
       "<re.Match object; span=(8, 13), match='phone'>"
      ]
     },
     "execution_count": 26,
     "metadata": {},
     "output_type": "execute_result"
    }
   ],
   "source": [
    "re.search(r\"cell|phone\",text)"
   ]
  },
  {
   "cell_type": "code",
   "execution_count": 28,
   "id": "6a532001",
   "metadata": {},
   "outputs": [
    {
     "data": {
      "text/plain": [
       "['I am', ' ham']"
      ]
     },
     "execution_count": 28,
     "metadata": {},
     "output_type": "execute_result"
    }
   ],
   "source": [
    "re.findall(r\"..am\",\"Sam I am, green eggs and ham\")"
   ]
  },
  {
   "cell_type": "code",
   "execution_count": null,
   "id": "69ff304c",
   "metadata": {},
   "outputs": [],
   "source": []
  }
 ],
 "metadata": {
  "kernelspec": {
   "display_name": "Python 3 (ipykernel)",
   "language": "python",
   "name": "python3"
  },
  "language_info": {
   "codemirror_mode": {
    "name": "ipython",
    "version": 3
   },
   "file_extension": ".py",
   "mimetype": "text/x-python",
   "name": "python",
   "nbconvert_exporter": "python",
   "pygments_lexer": "ipython3",
   "version": "3.9.0"
  }
 },
 "nbformat": 4,
 "nbformat_minor": 5
}
