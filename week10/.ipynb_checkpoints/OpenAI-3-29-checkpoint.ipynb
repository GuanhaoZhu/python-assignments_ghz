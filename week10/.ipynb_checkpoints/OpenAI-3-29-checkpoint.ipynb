{
 "cells": [
  {
   "cell_type": "code",
   "execution_count": 10,
   "id": "87b87565",
   "metadata": {},
   "outputs": [],
   "source": [
    "import openai"
   ]
  },
  {
   "cell_type": "code",
   "execution_count": 29,
   "id": "35bd3207",
   "metadata": {},
   "outputs": [],
   "source": []
  },
  {
   "cell_type": "code",
   "execution_count": 30,
   "id": "3b8683e3",
   "metadata": {},
   "outputs": [],
   "source": [
    "text = \"Could you teach me how to cook steak hamburger?\""
   ]
  },
  {
   "cell_type": "code",
   "execution_count": 31,
   "id": "6e076591",
   "metadata": {},
   "outputs": [],
   "source": [
    "response = openai.Completion.create(\n",
    "  model=\"text-davinci-002\",\n",
    "  prompt=text,\n",
    "  temperature=0.3,\n",
    "  max_tokens=120,\n",
    "  top_p=1.0,\n",
    "  frequency_penalty=0.0,\n",
    "  presence_penalty=0.0\n",
    ")"
   ]
  },
  {
   "cell_type": "code",
   "execution_count": 32,
   "id": "c7798e39",
   "metadata": {},
   "outputs": [
    {
     "name": "stdout",
     "output_type": "stream",
     "text": [
      "{\n",
      "  \"choices\": [\n",
      "    {\n",
      "      \"finish_reason\": \"length\",\n",
      "      \"index\": 0,\n",
      "      \"logprobs\": null,\n",
      "      \"text\": \"\\n\\nHere are some tips on how to cook a steak hamburger: \\n\\n1. Preheat your grill, or heat a heavy skillet on the stove over medium-high heat.\\n\\n2. To make the burgers, mix together ground beef, salt, pepper, and any other desired seasonings in a bowl. Form into patties that are about \\u00bd-inch thick.\\n\\n3. Grill or cook the burgers for about 3 minutes per side, or until they are cooked to your desired level of doneness.\\n\\n4. Serve on buns with your favorite\"\n",
      "    }\n",
      "  ],\n",
      "  \"created\": 1680671554,\n",
      "  \"id\": \"cmpl-71pjelp4q4eAyfYSUrMvdFpJtYzim\",\n",
      "  \"model\": \"text-davinci-002\",\n",
      "  \"object\": \"text_completion\",\n",
      "  \"usage\": {\n",
      "    \"completion_tokens\": 120,\n",
      "    \"prompt_tokens\": 11,\n",
      "    \"total_tokens\": 131\n",
      "  }\n",
      "}\n"
     ]
    }
   ],
   "source": [
    "print(response)"
   ]
  },
  {
   "cell_type": "code",
   "execution_count": 33,
   "id": "3cd99e8e",
   "metadata": {},
   "outputs": [
    {
     "name": "stdout",
     "output_type": "stream",
     "text": [
      "\n",
      "\n",
      "Here are some tips on how to cook a steak hamburger: \n",
      "\n",
      "1. Preheat your grill, or heat a heavy skillet on the stove over medium-high heat.\n",
      "\n",
      "2. To make the burgers, mix together ground beef, salt, pepper, and any other desired seasonings in a bowl. Form into patties that are about ½-inch thick.\n",
      "\n",
      "3. Grill or cook the burgers for about 3 minutes per side, or until they are cooked to your desired level of doneness.\n",
      "\n",
      "4. Serve on buns with your favorite\n"
     ]
    }
   ],
   "source": [
    "result = response.choices[0].text\n",
    "print(result)"
   ]
  }
 ],
 "metadata": {
  "kernelspec": {
   "display_name": "Python 3 (ipykernel)",
   "language": "python",
   "name": "python3"
  },
  "language_info": {
   "codemirror_mode": {
    "name": "ipython",
    "version": 3
   },
   "file_extension": ".py",
   "mimetype": "text/x-python",
   "name": "python",
   "nbconvert_exporter": "python",
   "pygments_lexer": "ipython3",
   "version": "3.9.0"
  }
 },
 "nbformat": 4,
 "nbformat_minor": 5
}
