{
 "cells": [
  {
   "cell_type": "code",
   "execution_count": 6,
   "id": "binding-glance",
   "metadata": {},
   "outputs": [],
   "source": [
    "import os\n",
    "from dotenv import load_dotenv\n",
    "\n",
    "def configure():\n",
    "    load_dotenv()"
   ]
  },
  {
   "cell_type": "code",
   "execution_count": null,
   "id": "dc62e235",
   "metadata": {},
   "outputs": [],
   "source": [
    "import warnings\n",
    "warnings.filterwarnings('ignore')\n",
    "\n",
    "import ipywidgets as widgets\n",
    "from IPython.display import display, clear_output, HTML\n",
    "color = \"#ffcccc\"  # choose your desired color\n",
    "\n",
    "configure()\n",
    "\n",
    "html_code = f\"<style>body{{background-color: {color} !important;}}</style>\""
   ]
  },
  {
   "cell_type": "code",
   "execution_count": 2,
   "id": "informal-powell",
   "metadata": {},
   "outputs": [],
   "source": [
    "#!jupyter nbextension enable --py widgetsnbextension --sys-prefix\n",
    "#!jupyter serverextension enable voila --sys-prefix"
   ]
  },
  {
   "cell_type": "code",
   "execution_count": 3,
   "id": "1d9e6bd4",
   "metadata": {},
   "outputs": [
    {
     "data": {
      "text/html": [
       "<style>\n",
       "\n",
       "@font-face{\n",
       "    font-family: \"my custom font\";\n",
       "    src= url(\"/Users/ghzhu/Library/Fonts/TWKEverett-Hairline.otf\");\n",
       "}\n",
       "\n",
       ".widget-label {\n",
       "    font-size: 10px;\n",
       "    font-weight: regular;\n",
       "    font-family:\"my custom font\", Hairline, serif;\n",
       "} \n",
       "</style>\n"
      ],
      "text/plain": [
       "<IPython.core.display.HTML object>"
      ]
     },
     "metadata": {},
     "output_type": "display_data"
    }
   ],
   "source": [
    "%%html\n",
    "<style>\n",
    "\n",
    "@font-face{\n",
    "    font-family: \"TWKEverett-Hairline\";\n",
    "    src= url(\"/Users/ghzhu/Library/Fonts/TWKEverett-Hairline.otf\");\n",
    "    font-family: \"LexendExa-Regular\";\n",
    "    src= url(\"/Users/ghzhu/Library/Fonts/LexendExa-Regular.ttf\");\n",
    "    font-family: \"Belleza-Regular\";\n",
    "    src= url(\"/Users/ghzhu/Library/Fonts/Belleza-Regular.ttf\");\n",
    "    font-family: \"CrimsonPro-ExtraLightItalic\";\n",
    "    src= url(\"/Users/ghzhu/Library/Fonts/CrimsonPro-ExtraLightItalic.ttf\");\n",
    "    font-family: \"CrimsonPro-ExtraLightItalic\";\n",
    "    src= url(\"/Users/ghzhu/Library/Fonts/CrimsonPro-Light.ttf\");\n",
    "    font-family: \"Maitree-Light\";\n",
    "    src= url(\"/Users/ghzhu/Library/Fonts/Maitree-Light.ttf\");\n",
    "}\n",
    "\n",
    ".widget-label {\n",
    "    font-size: 10px;\n",
    "    font-weight: regular;\n",
    "    font-family:\"TWKEverett-Hairline\";\n",
    "} \n",
    "\n",
    "</style>"
   ]
  },
  {
   "cell_type": "code",
   "execution_count": null,
   "id": "reflected-speaker",
   "metadata": {},
   "outputs": [],
   "source": [
    "# Image Widget\n",
    "\n",
    "file = open(\"pink.gif\", \"rb\")\n",
    "image = file.read()\n",
    "\n",
    "image_headline = widgets.Image(\n",
    "                    value=image,\n",
    "                    format='gif',\n",
    "                    layout=widgets.Layout(width=\"700px\", margin='0 auto')\n",
    "                )\n",
    "\n",
    "label_headline = widgets.Label(\n",
    "                    value='This website is based on :https://github.com/nghweigeok/jupyter_webapp_demo',\n",
    "                    style={'description_width': 'initial'}\n",
    "                )\n",
    "\n",
    "vbox_headline = widgets.VBox([image_headline, label_headline])"
   ]
  },
  {
   "cell_type": "code",
   "execution_count": null,
   "id": "bearing-lover",
   "metadata": {},
   "outputs": [],
   "source": [
    "# name\n",
    "person = widgets.Text(placeholder=\"Your name here\")\n",
    "name = widgets.Text(placeholder=\"Company's name here\")"
   ]
  },
  {
   "cell_type": "code",
   "execution_count": null,
   "id": "9e98655d",
   "metadata": {},
   "outputs": [],
   "source": [
    "import openai\n",
    "openai.api_key = os.getenv('api_key')"
   ]
  },
  {
   "cell_type": "code",
   "execution_count": null,
   "id": "thorough-royal",
   "metadata": {},
   "outputs": [],
   "source": [
    "# button send\n",
    "\n",
    "button_send = widgets.Button(\n",
    "                description='Embrace it!',\n",
    "                tooltip='Send',\n",
    "                layout=widgets.Layout(width='100px', margin='0 auto'),\n",
    "                style={'button_color': 'pink',\n",
    "                       'font_weight': 'regular',\n",
    "                       'font_size': '14px',\n",
    "                       'padding': '10px 20px',\n",
    "                       'border_radius': '10px',\n",
    "                       'font_family': 'Maitree-Light'}\n",
    "                )\n",
    "\n",
    "output = widgets.Output(layout=widgets.Layout(text_align='center', max_width = '700px'))\n",
    "\n",
    "def on_button_clicked(event):\n",
    "    response = openai.Completion.create(\n",
    "    model=\"curie:ft-personal-2023-04-26-03-19-16\",\n",
    "    prompt=f\"{name.value}\",\n",
    "    temperature=0.6, #randomness \n",
    "    max_tokens=90, #charaters in response \n",
    "    top_p=1, #controls diversity\n",
    "    frequency_penalty=0.5, #decrease repetition \n",
    "    presence_penalty=0.5 #increase likelihood to talk about new topic \n",
    ")\n",
    "    result = response.choices[0].text\n",
    "    with output:\n",
    "        clear_output()\n",
    "        print(f\"Dear {person.value},\\n\")\n",
    "        print(result)\n",
    "        print(\"\")\n",
    "        print(f\"Sincerely,\")\n",
    "        print(f\"{name.value} Recruiting Team\")\n",
    "\n",
    "button_send.on_click(on_button_clicked)\n",
    "\n",
    "vbox_result = widgets.VBox([button_send, output], layout=widgets.Layout(justify_content='center'))"
   ]
  },
  {
   "cell_type": "code",
   "execution_count": null,
   "id": "guilty-ending",
   "metadata": {},
   "outputs": [],
   "source": [
    "# stacked right hand side\n",
    "\n",
    "text_0 = widgets.HTML(value=\"<h1 style='font-family: CrimsonPro-ExtraLightItalic; font-size: 48px; text-align: center;'>♡₊˚ 🦢 Rejection Therapy・₊✧</h1>\")\n",
    "text_1 = widgets.HTML(value=\"<h2 style='font-family: Belleza-Regular; font-size: 30px;text-align: center;'>Please type your dream company ‧₊˚ 🍮 ⋅ ☆</h2>\")\n",
    "text_4 = widgets.HTML(value=\"<h3 style='font-family: CrimsonPro-ExtraLightItalic; font-size: 18px; text-align: center;'>Congratulations! Are you ready to have a beautiful rejection letter from your dream position? <br>Enjoy it!</h2>\")\n",
    "\n",
    "name.style.description_width = 'initial'\n",
    "name.layout.width = '200px'\n",
    "name.layout.margin = '0 auto'\n",
    "person.style.description_width = 'initial'\n",
    "person.layout.width = '200px'\n",
    "person.layout.margin = '0 auto'\n",
    "\n",
    "vbox_text = widgets.VBox([ image_headline, label_headline, text_0, person, text_1, name, text_4, vbox_result])"
   ]
  },
  {
   "cell_type": "code",
   "execution_count": null,
   "id": "earlier-saturday",
   "metadata": {},
   "outputs": [],
   "source": [
    "page = widgets.HBox([vbox_text], layout=widgets.Layout(justify_content='center'))\n",
    "display(widgets.VBox([page], layout=widgets.Layout(justify_content='center')))\n",
    "display(HTML(html_code))"
   ]
  },
  {
   "cell_type": "code",
   "execution_count": 7,
   "id": "3c701f84",
   "metadata": {},
   "outputs": [],
   "source": [
    "!pip freeze > requirements.txt"
   ]
  },
  {
   "cell_type": "code",
   "execution_count": null,
   "id": "54bdbcd8",
   "metadata": {},
   "outputs": [],
   "source": []
  }
 ],
 "metadata": {
  "kernelspec": {
   "display_name": "Python 3 (ipykernel)",
   "language": "python",
   "name": "python3"
  },
  "language_info": {
   "codemirror_mode": {
    "name": "ipython",
    "version": 3
   },
   "file_extension": ".py",
   "mimetype": "text/x-python",
   "name": "python",
   "nbconvert_exporter": "python",
   "pygments_lexer": "ipython3",
   "version": "3.9.0"
  }
 },
 "nbformat": 4,
 "nbformat_minor": 5
}
