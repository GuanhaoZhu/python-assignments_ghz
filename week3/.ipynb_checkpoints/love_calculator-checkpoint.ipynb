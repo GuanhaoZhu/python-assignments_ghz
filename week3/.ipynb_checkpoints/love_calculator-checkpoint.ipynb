{
 "cells": [
  {
   "cell_type": "code",
   "execution_count": 55,
   "id": "fc61bf3a",
   "metadata": {},
   "outputs": [],
   "source": [
    "import random\n",
    "\n",
    "def love_calculator():\n",
    "    person_1 = int(input(\"Please enter your birth of date (MMDD)\"))\n",
    "    person_2 = int(input(\"Please enter his/her/their birth of date (MMDD)\"))\n",
    "    \n",
    "    if person_1 > 0  and person_2 > 0:\n",
    "        print(\"Your matching rate is...!\")\n",
    "        print((person_1+person_2)%10*10)\n",
    "    else:\n",
    "        print('error')"
   ]
  },
  {
   "cell_type": "code",
   "execution_count": 57,
   "id": "c3f3189f",
   "metadata": {},
   "outputs": [
    {
     "name": "stdout",
     "output_type": "stream",
     "text": [
      "Please enter your birth of date (MMDD)0117\n",
      "Please enter his/her/their birth of date (MMDD)1204\n",
      "Your matching rate is...!\n",
      "10\n"
     ]
    }
   ],
   "source": [
    "love_calculator()"
   ]
  },
  {
   "cell_type": "code",
   "execution_count": null,
   "id": "8824c247",
   "metadata": {},
   "outputs": [],
   "source": []
  }
 ],
 "metadata": {
  "kernelspec": {
   "display_name": "Python 3 (ipykernel)",
   "language": "python",
   "name": "python3"
  },
  "language_info": {
   "codemirror_mode": {
    "name": "ipython",
    "version": 3
   },
   "file_extension": ".py",
   "mimetype": "text/x-python",
   "name": "python",
   "nbconvert_exporter": "python",
   "pygments_lexer": "ipython3",
   "version": "3.9.0"
  }
 },
 "nbformat": 4,
 "nbformat_minor": 5
}
