{
 "cells": [
  {
   "cell_type": "code",
   "execution_count": 4,
   "id": "5baeb925",
   "metadata": {},
   "outputs": [
    {
     "name": "stdout",
     "output_type": "stream",
     "text": [
      "conddition not met\n"
     ]
    }
   ],
   "source": [
    "x = False\n",
    "\n",
    "if x:\n",
    "    print(\"condition met\")\n",
    "else:\n",
    "    print(\"conddition not met\")"
   ]
  },
  {
   "cell_type": "code",
   "execution_count": 5,
   "id": "ff7e6888",
   "metadata": {},
   "outputs": [
    {
     "name": "stdout",
     "output_type": "stream",
     "text": [
      "condition met\n"
     ]
    }
   ],
   "source": [
    "x = False\n",
    "\n",
    "if not x:\n",
    "    print(\"condition met\")\n",
    "else:\n",
    "    print(\"conddition not met\")"
   ]
  },
  {
   "cell_type": "code",
   "execution_count": 6,
   "id": "5c411ef5",
   "metadata": {},
   "outputs": [
    {
     "name": "stdout",
     "output_type": "stream",
     "text": [
      "x is less than y\n"
     ]
    }
   ],
   "source": [
    "x = 10\n",
    "y = 20\n",
    "\n",
    "if x<y:\n",
    "    print(\"x is less than y\")\n",
    "else:\n",
    "    print(\"x is greater than y\")"
   ]
  },
  {
   "cell_type": "code",
   "execution_count": 14,
   "id": "e3272f32",
   "metadata": {},
   "outputs": [
    {
     "name": "stdout",
     "output_type": "stream",
     "text": [
      "Condition met\n"
     ]
    }
   ],
   "source": [
    "if 1<3 or 1>2:\n",
    "    print(\"Condition met\")"
   ]
  },
  {
   "cell_type": "code",
   "execution_count": 17,
   "id": "8ad7042d",
   "metadata": {},
   "outputs": [
    {
     "name": "stdout",
     "output_type": "stream",
     "text": [
      "x is greater than 9\n"
     ]
    }
   ],
   "source": [
    "x = 21\n",
    "\n",
    "if x<20:\n",
    "    print(\"x is less than 20\")\n",
    "elif x>9:\n",
    "    print(\"x is greater than 9\")\n",
    "elif x ==10:\n",
    "    print(\"x is 10!\")\n",
    "else:\n",
    "    print(\"we don't know what x is?\")"
   ]
  },
  {
   "cell_type": "code",
   "execution_count": 21,
   "id": "ba65c1c7",
   "metadata": {},
   "outputs": [
    {
     "name": "stdout",
     "output_type": "stream",
     "text": [
      "H\n",
      "e\n",
      "l\n",
      "l\n",
      "o\n",
      " \n",
      "W\n",
      "o\n",
      "r\n",
      "l\n",
      "d\n",
      "!\n"
     ]
    }
   ],
   "source": [
    "for l in \"Hello World!\":\n",
    "    print(l)"
   ]
  },
  {
   "cell_type": "code",
   "execution_count": 22,
   "id": "94bad0ae",
   "metadata": {},
   "outputs": [
    {
     "name": "stdout",
     "output_type": "stream",
     "text": [
      "yellow\n",
      "blue\n",
      "red\n"
     ]
    }
   ],
   "source": [
    "lst = [\"yellow\", \"blue\", \"red\"]\n",
    "for color in lst:\n",
    "    print(color)"
   ]
  },
  {
   "cell_type": "code",
   "execution_count": 25,
   "id": "98508a8a",
   "metadata": {},
   "outputs": [
    {
     "name": "stdout",
     "output_type": "stream",
     "text": [
      "['yellow', 'blue', 'red', 'green', 'purple', 'orange']\n"
     ]
    }
   ],
   "source": [
    "lst = [\"yellow\", \"blue\", \"red\"]\n",
    "new_lst = [\"green\", \"purple\", \"orange\"]\n",
    "for items in new_lst:\n",
    "    lst.append(items)\n",
    "print(lst)"
   ]
  },
  {
   "cell_type": "code",
   "execution_count": 26,
   "id": "13eeb998",
   "metadata": {},
   "outputs": [
    {
     "name": "stdout",
     "output_type": "stream",
     "text": [
      "Odd\n",
      "Even\n",
      "Odd\n",
      "Even\n",
      "Odd\n",
      "Even\n",
      "Odd\n",
      "Even\n",
      "Odd\n",
      "Even\n"
     ]
    }
   ],
   "source": [
    "num_lst = [1,2,3,4,5,6,7,8,9,10]\n",
    "for number in num_lst:\n",
    "    if number % 2 == 0:\n",
    "        print(\"Even\")\n",
    "    else:\n",
    "        print(\"Odd\")"
   ]
  },
  {
   "cell_type": "code",
   "execution_count": 27,
   "id": "61792e35",
   "metadata": {},
   "outputs": [
    {
     "data": {
      "text/plain": [
       "3"
      ]
     },
     "execution_count": 27,
     "metadata": {},
     "output_type": "execute_result"
    }
   ],
   "source": [
    "tuplelist = [(1,2),(3,4),(5,6)]\n",
    "len(tuplelist)"
   ]
  },
  {
   "cell_type": "code",
   "execution_count": 28,
   "id": "74b41a58",
   "metadata": {},
   "outputs": [
    {
     "name": "stdout",
     "output_type": "stream",
     "text": [
      "(1, 2)\n",
      "(3, 4)\n",
      "(5, 6)\n"
     ]
    }
   ],
   "source": [
    "for pair in tuplelist:\n",
    "    print(pair)"
   ]
  },
  {
   "cell_type": "code",
   "execution_count": 34,
   "id": "11ffebeb",
   "metadata": {},
   "outputs": [
    {
     "name": "stdout",
     "output_type": "stream",
     "text": [
      "2\n",
      "1\n",
      "4\n",
      "3\n",
      "6\n",
      "5\n"
     ]
    }
   ],
   "source": [
    "for x,y in tuplelist:\n",
    "    print(y)\n",
    "    print(x)"
   ]
  },
  {
   "cell_type": "code",
   "execution_count": 55,
   "id": "cb1115db",
   "metadata": {},
   "outputs": [
    {
     "name": "stdout",
     "output_type": "stream",
     "text": [
      "key1\n",
      "key2\n",
      "key3\n"
     ]
    }
   ],
   "source": [
    "# items would help you to organize things from your dic\n",
    "# here, you still can use tuple to call the items and value you define or input\n",
    "dic = {'key1':1, 'key2':2, 'key3':3}\n",
    "for key,value in dic.items():\n",
    "    print(key)"
   ]
  },
  {
   "cell_type": "code",
   "execution_count": 40,
   "id": "58a9a1c2",
   "metadata": {},
   "outputs": [
    {
     "name": "stdout",
     "output_type": "stream",
     "text": [
      "1\n",
      "2\n",
      "3\n"
     ]
    }
   ],
   "source": [
    "# items would help you to organize things from your dic\n",
    "# here, you still can use tuple to call the items and value you define or input\n",
    "dic = {'key1':1, 'key2':2, 'key3':3}\n",
    "for v in dic.values():\n",
    "    print(v)"
   ]
  },
  {
   "cell_type": "code",
   "execution_count": 58,
   "id": "47e8d6fc",
   "metadata": {},
   "outputs": [],
   "source": [
    "# Maybe you want to pass it rn, and catch up later\n",
    "# for thing in \"somtething\":\n",
    "#     # I'm trying to come up with something, get to this later\n",
    "#     pass"
   ]
  },
  {
   "cell_type": "code",
   "execution_count": 63,
   "id": "88f1ec74",
   "metadata": {},
   "outputs": [
    {
     "name": "stdout",
     "output_type": "stream",
     "text": [
      "x is currently 0\n",
      "x is still less than 3, adding 1 to x\n",
      "continuing...\n",
      "x is currently 1\n",
      "x is still less than 3, adding 1 to x\n",
      "continuing...\n",
      "x is currently 2\n",
      "x is still less than 3, adding 1 to x\n",
      "x is equal to 3\n",
      "x is currently 3\n",
      "x is still less than 3, adding 1 to x\n",
      "continuing...\n"
     ]
    }
   ],
   "source": [
    "x = 0\n",
    "\n",
    "while x<= 3:\n",
    "    print(\"x is currently\", x)\n",
    "    print(\"x is still less than 3, adding 1 to x\")\n",
    "    x+=1\n",
    "    if x == 3:\n",
    "        print('x is equal to 3')\n",
    "    else:\n",
    "        print('continuing...')\n",
    "        continue"
   ]
  },
  {
   "cell_type": "code",
   "execution_count": 68,
   "id": "f41421f2",
   "metadata": {},
   "outputs": [
    {
     "name": "stdout",
     "output_type": "stream",
     "text": [
      "x is currently: 0\n",
      "x is still less than 3, adding 1 to x\n",
      "continuing...\n",
      "x is currently: 1\n",
      "x is still less than 3, adding 1 to x\n",
      "continuing...\n",
      "x is currently: 2\n",
      "x is still less than 3, adding 1 to x\n",
      "breaking because x is equal 3\n"
     ]
    }
   ],
   "source": [
    "x = 0\n",
    "\n",
    "while x<= 3:\n",
    "    print('x is currently:', x)\n",
    "    print('x is still less than 3, adding 1 to x')\n",
    "    x+=1\n",
    "    if x ==3:\n",
    "        print('breaking because x is equal 3')\n",
    "        break\n",
    "    else:\n",
    "        print('continuing...')\n",
    "        continue"
   ]
  },
  {
   "cell_type": "code",
   "execution_count": 70,
   "id": "0fd66687",
   "metadata": {},
   "outputs": [
    {
     "name": "stdout",
     "output_type": "stream",
     "text": [
      "[0, 1, 4, 9, 16, 25, 36, 49, 64, 81]\n"
     ]
    }
   ],
   "source": [
    "squares = []\n",
    "\n",
    "for i in range(10):\n",
    "    squares.append(i*i)\n",
    "print(squares)"
   ]
  },
  {
   "cell_type": "code",
   "execution_count": 71,
   "id": "31b97525",
   "metadata": {},
   "outputs": [
    {
     "name": "stdout",
     "output_type": "stream",
     "text": [
      "[0, 1, 4, 9, 16, 25, 36, 49, 64, 81]\n"
     ]
    }
   ],
   "source": [
    "sq_new = [i*i for i in range(10)]\n",
    "print(sq_new)"
   ]
  },
  {
   "cell_type": "code",
   "execution_count": 72,
   "id": "5170019d",
   "metadata": {},
   "outputs": [
    {
     "name": "stdout",
     "output_type": "stream",
     "text": [
      "[1, 9, 25, 49, 81]\n"
     ]
    }
   ],
   "source": [
    "sq_new_odd = [i*i for i in range(0,10) if i %2 ==1]\n",
    "print(sq_new_odd)"
   ]
  },
  {
   "cell_type": "code",
   "execution_count": 73,
   "id": "980d008a",
   "metadata": {},
   "outputs": [
    {
     "name": "stdout",
     "output_type": "stream",
     "text": [
      "[32.0, 50.0, 122.9, 89.6]\n"
     ]
    }
   ],
   "source": [
    "celsius = [0,10,50.5,32]\n",
    "fahrenheit = [(9/5)*temp + 32 for temp in celsius]\n",
    "print (fahrenheit)"
   ]
  },
  {
   "cell_type": "code",
   "execution_count": 76,
   "id": "efe53e37",
   "metadata": {},
   "outputs": [
    {
     "name": "stdout",
     "output_type": "stream",
     "text": [
      "50\n"
     ]
    }
   ],
   "source": [
    "x = 50 \n",
    "\n",
    "def printNumber():\n",
    "    x = 100 \n",
    "    return x\n",
    "print(x)"
   ]
  },
  {
   "cell_type": "code",
   "execution_count": 80,
   "id": "64099673",
   "metadata": {},
   "outputs": [
    {
     "name": "stdout",
     "output_type": "stream",
     "text": [
      "<map object at 0x7f98db8f9370>\n"
     ]
    }
   ],
   "source": [
    "# Return double of n\n",
    "def addition(n):\n",
    "    return n + n\n",
    "  \n",
    "# We double all numbers using map()\n",
    "numbers = (1, 2, 3, 4)\n",
    "\n",
    "result = map(addition, numbers)\n",
    "print(result)"
   ]
  },
  {
   "cell_type": "code",
   "execution_count": 92,
   "id": "e0dcdf03",
   "metadata": {},
   "outputs": [
    {
     "name": "stdout",
     "output_type": "stream",
     "text": [
      "[2, 4, 6, 8]\n"
     ]
    }
   ],
   "source": [
    "def greeting():\n",
    "    print(\"hello world!\")\n",
    "\n",
    "def addtion(n):\n",
    "    return n + n\n",
    "\n",
    "numbers = (1,2,3,4)\n",
    "\n",
    "result = map(addition, numbers)\n",
    "print(list(result))"
   ]
  },
  {
   "cell_type": "code",
   "execution_count": 100,
   "id": "7ea1ce3d",
   "metadata": {},
   "outputs": [
    {
     "name": "stdout",
     "output_type": "stream",
     "text": [
      "hello Guanhao\n"
     ]
    }
   ],
   "source": [
    "name = \"GLOBAL\"\n",
    "\n",
    "def greeting():\n",
    "    # local to greeting\n",
    "    # enclosing to heello()\n",
    "    name = \"Guanhao\"\n",
    "    def hello():\n",
    "        print(\"hello\", name)\n",
    "    hello()\n",
    "greeting()\n",
    "\n",
    "# cuz L>E>G>B"
   ]
  },
  {
   "cell_type": "code",
   "execution_count": 103,
   "id": "1b06f479",
   "metadata": {},
   "outputs": [
    {
     "name": "stdout",
     "output_type": "stream",
     "text": [
      "Hello LOCAL\n"
     ]
    }
   ],
   "source": [
    "def scope():\n",
    "    name = \"ENCLOSING\"\n",
    "    def call():\n",
    "        name = \"LOCAL\"\n",
    "        print(\"Hello \"+name)\n",
    "    call()\n",
    "scope()"
   ]
  },
  {
   "cell_type": "code",
   "execution_count": 3,
   "id": "495c555d",
   "metadata": {},
   "outputs": [],
   "source": [
    "x = 50\n",
    "def assign(x):\n",
    "    print(f'x is {x}')\n",
    "    x =100"
   ]
  },
  {
   "cell_type": "code",
   "execution_count": 4,
   "id": "3bf3ff66",
   "metadata": {},
   "outputs": [
    {
     "name": "stdout",
     "output_type": "stream",
     "text": [
      "x is 50\n"
     ]
    }
   ],
   "source": [
    "assign(x)"
   ]
  },
  {
   "cell_type": "code",
   "execution_count": 12,
   "id": "d383be8b",
   "metadata": {},
   "outputs": [
    {
     "name": "stdout",
     "output_type": "stream",
     "text": [
      "1\n"
     ]
    }
   ],
   "source": [
    "c = 1\n",
    "\n",
    "def add():\n",
    "    global c \n",
    "    c = c+2\n",
    "    print(c)\n",
    "print(c)"
   ]
  },
  {
   "cell_type": "code",
   "execution_count": 15,
   "id": "2e22d410",
   "metadata": {},
   "outputs": [
    {
     "data": {
      "text/plain": [
       "12"
      ]
     },
     "execution_count": 15,
     "metadata": {},
     "output_type": "execute_result"
    }
   ],
   "source": [
    "def addfunc(a,b):\n",
    "    return sum((a,b))\n",
    "addfunc(10,2)"
   ]
  },
  {
   "cell_type": "code",
   "execution_count": 16,
   "id": "43092db6",
   "metadata": {},
   "outputs": [
    {
     "name": "stdout",
     "output_type": "stream",
     "text": [
      "Hello World\n",
      "Hello World\n",
      "Hello World\n"
     ]
    }
   ],
   "source": [
    "def greeting():\n",
    "    print(\"Hello World\")\n",
    "for x in range(3):\n",
    "    greeting()"
   ]
  },
  {
   "cell_type": "code",
   "execution_count": 17,
   "id": "9759ac4f",
   "metadata": {},
   "outputs": [],
   "source": [
    "def identity(**kwargs):\n",
    "    if 'name' in kwargs:\n",
    "        print('My name is {}'.format(kwargs['name']))\n",
    "    else:\n",
    "        print('Unknown')"
   ]
  },
  {
   "cell_type": "code",
   "execution_count": 25,
   "id": "f9397047",
   "metadata": {},
   "outputs": [],
   "source": [
    "def check_list(num_list):\n",
    "    for num in num_list:\n",
    "        if num % 2 == 0:\n",
    "            return True\n",
    "        else:\n",
    "            pass\n",
    "        return False"
   ]
  },
  {
   "cell_type": "code",
   "execution_count": 27,
   "id": "aca98a2e",
   "metadata": {},
   "outputs": [
    {
     "data": {
      "text/plain": [
       "False"
      ]
     },
     "execution_count": 27,
     "metadata": {},
     "output_type": "execute_result"
    }
   ],
   "source": [
    "num_list = (1,3,5)\n",
    "check_list(num_list)"
   ]
  },
  {
   "cell_type": "code",
   "execution_count": 28,
   "id": "ff71d24d",
   "metadata": {},
   "outputs": [],
   "source": [
    "def check_even_list(num_list):\n",
    "    even_numbers = []\n",
    "    \n",
    "    for num in num_list:\n",
    "        if num % 2 == 0:\n",
    "            even_numbers.append(num)\n",
    "        else:\n",
    "            pass\n",
    "    return even_numbers"
   ]
  },
  {
   "cell_type": "code",
   "execution_count": 29,
   "id": "77d38d12",
   "metadata": {},
   "outputs": [
    {
     "ename": "NameError",
     "evalue": "name 'player' is not defined",
     "output_type": "error",
     "traceback": [
      "\u001b[0;31m---------------------------------------------------------------------------\u001b[0m",
      "\u001b[0;31mNameError\u001b[0m                                 Traceback (most recent call last)",
      "Cell \u001b[0;32mIn[29], line 14\u001b[0m\n\u001b[1;32m     11\u001b[0m     \u001b[38;5;28;01mreturn\u001b[39;00m (winner, highest_score)\n\u001b[1;32m     13\u001b[0m score_board \u001b[38;5;241m=\u001b[39m [(\u001b[38;5;124m'\u001b[39m\u001b[38;5;124mA\u001b[39m\u001b[38;5;124m'\u001b[39m,\u001b[38;5;241m100\u001b[39m),(\u001b[38;5;124m'\u001b[39m\u001b[38;5;124mB\u001b[39m\u001b[38;5;124m'\u001b[39m,\u001b[38;5;241m200\u001b[39m),(\u001b[38;5;124m'\u001b[39m\u001b[38;5;124mC\u001b[39m\u001b[38;5;124m'\u001b[39m,\u001b[38;5;241m300\u001b[39m)]\n\u001b[0;32m---> 14\u001b[0m \u001b[43mcheck_score\u001b[49m\u001b[43m(\u001b[49m\u001b[43mscore_board\u001b[49m\u001b[43m)\u001b[49m\n",
      "Cell \u001b[0;32mIn[29], line 5\u001b[0m, in \u001b[0;36mcheck_score\u001b[0;34m(points)\u001b[0m\n\u001b[1;32m      2\u001b[0m highest_score \u001b[38;5;241m=\u001b[39m \u001b[38;5;241m0\u001b[39m\n\u001b[1;32m      3\u001b[0m winner \u001b[38;5;241m=\u001b[39m \u001b[38;5;124m'\u001b[39m\u001b[38;5;124m'\u001b[39m\n\u001b[0;32m----> 5\u001b[0m \u001b[38;5;28;01mfor\u001b[39;00m \u001b[43mplayer\u001b[49m\u001b[38;5;241m.\u001b[39mscore \u001b[38;5;129;01min\u001b[39;00m score_board:\n\u001b[1;32m      6\u001b[0m     \u001b[38;5;28;01mif\u001b[39;00m score \u001b[38;5;241m>\u001b[39m highest_score:\n\u001b[1;32m      7\u001b[0m         highest_score \u001b[38;5;241m=\u001b[39m score\n",
      "\u001b[0;31mNameError\u001b[0m: name 'player' is not defined"
     ]
    }
   ],
   "source": [
    "def check_score(points):\n",
    "    highest_score = 0\n",
    "    winner = ''\n",
    "    \n",
    "    for player.score in score_board:\n",
    "        if score > highest_score:\n",
    "            highest_score = score\n",
    "            winner = player\n",
    "        else:\n",
    "            pass\n",
    "    return (winner, highest_score)\n",
    "\n",
    "score_board = [('A',100),('B',200),('C',300)]\n",
    "check_score(score_board)"
   ]
  },
  {
   "cell_type": "code",
   "execution_count": 38,
   "id": "3b6ab965",
   "metadata": {},
   "outputs": [
    {
     "ename": "NameError",
     "evalue": "name 'string' is not defined",
     "output_type": "error",
     "traceback": [
      "\u001b[0;31m---------------------------------------------------------------------------\u001b[0m",
      "\u001b[0;31mNameError\u001b[0m                                 Traceback (most recent call last)",
      "Cell \u001b[0;32mIn[38], line 8\u001b[0m\n\u001b[1;32m      5\u001b[0m         \u001b[38;5;28;01mreturn\u001b[39;00m \u001b[38;5;124m\"\u001b[39m\u001b[38;5;124mdoes not begin with A\u001b[39m\u001b[38;5;124m\"\u001b[39m\n\u001b[1;32m      7\u001b[0m names \u001b[38;5;241m=\u001b[39m [\u001b[38;5;124m'\u001b[39m\u001b[38;5;124mabby\u001b[39m\u001b[38;5;124m'\u001b[39m,\u001b[38;5;124m'\u001b[39m\u001b[38;5;124malley\u001b[39m\u001b[38;5;124m'\u001b[39m,\u001b[38;5;124m'\u001b[39m\u001b[38;5;124mbanana\u001b[39m\u001b[38;5;124m'\u001b[39m]\n\u001b[0;32m----> 8\u001b[0m \u001b[43malphabets\u001b[49m\u001b[43m(\u001b[49m\u001b[38;5;28;43mmap\u001b[39;49m\u001b[43m(\u001b[49m\u001b[43malphabets\u001b[49m\u001b[43m,\u001b[49m\u001b[43mnames\u001b[49m\u001b[43m)\u001b[49m\u001b[43m)\u001b[49m\n",
      "Cell \u001b[0;32mIn[38], line 2\u001b[0m, in \u001b[0;36malphabets\u001b[0;34m(strings)\u001b[0m\n\u001b[1;32m      1\u001b[0m \u001b[38;5;28;01mdef\u001b[39;00m \u001b[38;5;21malphabets\u001b[39m(strings):\n\u001b[0;32m----> 2\u001b[0m     \u001b[38;5;28;01mif\u001b[39;00m \u001b[43mstring\u001b[49m[\u001b[38;5;241m0\u001b[39m] \u001b[38;5;241m==\u001b[39m \u001b[38;5;124m'\u001b[39m\u001b[38;5;124ma\u001b[39m\u001b[38;5;124m'\u001b[39m:\n\u001b[1;32m      3\u001b[0m         \u001b[38;5;28;01mreturn\u001b[39;00m string\n\u001b[1;32m      4\u001b[0m     \u001b[38;5;28;01melse\u001b[39;00m:\n",
      "\u001b[0;31mNameError\u001b[0m: name 'string' is not defined"
     ]
    }
   ],
   "source": [
    "def alphabets(strings):\n",
    "    if string[0] == 'a':\n",
    "        return string\n",
    "    else:\n",
    "        return \"does not begin with A\"\n",
    "\n",
    "names = ['abby','alley','banana']\n",
    "list[map(alphabets,names)]"
   ]
  },
  {
   "cell_type": "code",
   "execution_count": 34,
   "id": "c2a61890",
   "metadata": {},
   "outputs": [
    {
     "data": {
      "text/plain": [
       "2000"
      ]
     },
     "execution_count": 34,
     "metadata": {},
     "output_type": "execute_result"
    }
   ],
   "source": [
    "def double(number): return number*2\n",
    "double = lambda number:number*2\n",
    "double(1000)"
   ]
  },
  {
   "cell_type": "code",
   "execution_count": null,
   "id": "b7165cd9",
   "metadata": {},
   "outputs": [],
   "source": []
  }
 ],
 "metadata": {
  "kernelspec": {
   "display_name": "Python 3 (ipykernel)",
   "language": "python",
   "name": "python3"
  },
  "language_info": {
   "codemirror_mode": {
    "name": "ipython",
    "version": 3
   },
   "file_extension": ".py",
   "mimetype": "text/x-python",
   "name": "python",
   "nbconvert_exporter": "python",
   "pygments_lexer": "ipython3",
   "version": "3.9.0"
  }
 },
 "nbformat": 4,
 "nbformat_minor": 5
}
