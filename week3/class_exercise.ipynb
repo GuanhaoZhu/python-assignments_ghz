{
 "cells": [
  {
   "cell_type": "code",
   "execution_count": 4,
   "id": "5baeb925",
   "metadata": {},
   "outputs": [
    {
     "name": "stdout",
     "output_type": "stream",
     "text": [
      "conddition not met\n"
     ]
    }
   ],
   "source": [
    "x = False\n",
    "\n",
    "if x:\n",
    "    print(\"condition met\")\n",
    "else:\n",
    "    print(\"conddition not met\")"
   ]
  },
  {
   "cell_type": "code",
   "execution_count": 5,
   "id": "ff7e6888",
   "metadata": {},
   "outputs": [
    {
     "name": "stdout",
     "output_type": "stream",
     "text": [
      "condition met\n"
     ]
    }
   ],
   "source": [
    "x = False\n",
    "\n",
    "if not x:\n",
    "    print(\"condition met\")\n",
    "else:\n",
    "    print(\"conddition not met\")"
   ]
  },
  {
   "cell_type": "code",
   "execution_count": 6,
   "id": "5c411ef5",
   "metadata": {},
   "outputs": [
    {
     "name": "stdout",
     "output_type": "stream",
     "text": [
      "x is less than y\n"
     ]
    }
   ],
   "source": [
    "x = 10\n",
    "y = 20\n",
    "\n",
    "if x<y:\n",
    "    print(\"x is less than y\")\n",
    "else:\n",
    "    print(\"x is greater than y\")"
   ]
  },
  {
   "cell_type": "code",
   "execution_count": 14,
   "id": "e3272f32",
   "metadata": {},
   "outputs": [
    {
     "name": "stdout",
     "output_type": "stream",
     "text": [
      "Condition met\n"
     ]
    }
   ],
   "source": [
    "if 1<3 or 1>2:\n",
    "    print(\"Condition met\")"
   ]
  },
  {
   "cell_type": "code",
   "execution_count": 17,
   "id": "8ad7042d",
   "metadata": {},
   "outputs": [
    {
     "name": "stdout",
     "output_type": "stream",
     "text": [
      "x is greater than 9\n"
     ]
    }
   ],
   "source": [
    "x = 21\n",
    "\n",
    "if x<20:\n",
    "    print(\"x is less than 20\")\n",
    "elif x>9:\n",
    "    print(\"x is greater than 9\")\n",
    "elif x ==10:\n",
    "    print(\"x is 10!\")\n",
    "else:\n",
    "    print(\"we don't know what x is?\")"
   ]
  },
  {
   "cell_type": "code",
   "execution_count": 21,
   "id": "ba65c1c7",
   "metadata": {},
   "outputs": [
    {
     "name": "stdout",
     "output_type": "stream",
     "text": [
      "H\n",
      "e\n",
      "l\n",
      "l\n",
      "o\n",
      " \n",
      "W\n",
      "o\n",
      "r\n",
      "l\n",
      "d\n",
      "!\n"
     ]
    }
   ],
   "source": [
    "for l in \"Hello World!\":\n",
    "    print(l)"
   ]
  },
  {
   "cell_type": "code",
   "execution_count": 22,
   "id": "94bad0ae",
   "metadata": {},
   "outputs": [
    {
     "name": "stdout",
     "output_type": "stream",
     "text": [
      "yellow\n",
      "blue\n",
      "red\n"
     ]
    }
   ],
   "source": [
    "lst = [\"yellow\", \"blue\", \"red\"]\n",
    "for color in lst:\n",
    "    print(color)"
   ]
  },
  {
   "cell_type": "code",
   "execution_count": 25,
   "id": "98508a8a",
   "metadata": {},
   "outputs": [
    {
     "name": "stdout",
     "output_type": "stream",
     "text": [
      "['yellow', 'blue', 'red', 'green', 'purple', 'orange']\n"
     ]
    }
   ],
   "source": [
    "lst = [\"yellow\", \"blue\", \"red\"]\n",
    "new_lst = [\"green\", \"purple\", \"orange\"]\n",
    "for items in new_lst:\n",
    "    lst.append(items)\n",
    "print(lst)"
   ]
  },
  {
   "cell_type": "code",
   "execution_count": 26,
   "id": "13eeb998",
   "metadata": {},
   "outputs": [
    {
     "name": "stdout",
     "output_type": "stream",
     "text": [
      "Odd\n",
      "Even\n",
      "Odd\n",
      "Even\n",
      "Odd\n",
      "Even\n",
      "Odd\n",
      "Even\n",
      "Odd\n",
      "Even\n"
     ]
    }
   ],
   "source": [
    "num_lst = [1,2,3,4,5,6,7,8,9,10]\n",
    "for number in num_lst:\n",
    "    if number % 2 == 0:\n",
    "        print(\"Even\")\n",
    "    else:\n",
    "        print(\"Odd\")"
   ]
  },
  {
   "cell_type": "code",
   "execution_count": 27,
   "id": "61792e35",
   "metadata": {},
   "outputs": [
    {
     "data": {
      "text/plain": [
       "3"
      ]
     },
     "execution_count": 27,
     "metadata": {},
     "output_type": "execute_result"
    }
   ],
   "source": [
    "tuplelist = [(1,2),(3,4),(5,6)]\n",
    "len(tuplelist)"
   ]
  },
  {
   "cell_type": "code",
   "execution_count": 28,
   "id": "74b41a58",
   "metadata": {},
   "outputs": [
    {
     "name": "stdout",
     "output_type": "stream",
     "text": [
      "(1, 2)\n",
      "(3, 4)\n",
      "(5, 6)\n"
     ]
    }
   ],
   "source": [
    "for pair in tuplelist:\n",
    "    print(pair)"
   ]
  },
  {
   "cell_type": "code",
   "execution_count": 34,
   "id": "11ffebeb",
   "metadata": {},
   "outputs": [
    {
     "name": "stdout",
     "output_type": "stream",
     "text": [
      "2\n",
      "1\n",
      "4\n",
      "3\n",
      "6\n",
      "5\n"
     ]
    }
   ],
   "source": [
    "for x,y in tuplelist:\n",
    "    print(y)\n",
    "    print(x)"
   ]
  },
  {
   "cell_type": "code",
   "execution_count": 55,
   "id": "cb1115db",
   "metadata": {},
   "outputs": [
    {
     "name": "stdout",
     "output_type": "stream",
     "text": [
      "key1\n",
      "key2\n",
      "key3\n"
     ]
    }
   ],
   "source": [
    "# items would help you to organize things from your dic\n",
    "# here, you still can use tuple to call the items and value you define or input\n",
    "dic = {'key1':1, 'key2':2, 'key3':3}\n",
    "for key,value in dic.items():\n",
    "    print(key)"
   ]
  },
  {
   "cell_type": "code",
   "execution_count": 40,
   "id": "58a9a1c2",
   "metadata": {},
   "outputs": [
    {
     "name": "stdout",
     "output_type": "stream",
     "text": [
      "1\n",
      "2\n",
      "3\n"
     ]
    }
   ],
   "source": [
    "# items would help you to organize things from your dic\n",
    "# here, you still can use tuple to call the items and value you define or input\n",
    "dic = {'key1':1, 'key2':2, 'key3':3}\n",
    "for v in dic.values():\n",
    "    print(v)"
   ]
  },
  {
   "cell_type": "code",
   "execution_count": 58,
   "id": "47e8d6fc",
   "metadata": {},
   "outputs": [],
   "source": [
    "# Maybe you want to pass it rn, and catch up later\n",
    "# for thing in \"somtething\":\n",
    "#     # I'm trying to come up with something, get to this later\n",
    "#     pass"
   ]
  },
  {
   "cell_type": "code",
   "execution_count": 63,
   "id": "88f1ec74",
   "metadata": {},
   "outputs": [
    {
     "name": "stdout",
     "output_type": "stream",
     "text": [
      "x is currently 0\n",
      "x is still less than 3, adding 1 to x\n",
      "continuing...\n",
      "x is currently 1\n",
      "x is still less than 3, adding 1 to x\n",
      "continuing...\n",
      "x is currently 2\n",
      "x is still less than 3, adding 1 to x\n",
      "x is equal to 3\n",
      "x is currently 3\n",
      "x is still less than 3, adding 1 to x\n",
      "continuing...\n"
     ]
    }
   ],
   "source": [
    "x = 0\n",
    "\n",
    "while x<= 3:\n",
    "    print(\"x is currently\", x)\n",
    "    print(\"x is still less than 3, adding 1 to x\")\n",
    "    x+=1\n",
    "    if x == 3:\n",
    "        print('x is equal to 3')\n",
    "    else:\n",
    "        print('continuing...')\n",
    "        continue"
   ]
  },
  {
   "cell_type": "code",
   "execution_count": 68,
   "id": "f41421f2",
   "metadata": {},
   "outputs": [
    {
     "name": "stdout",
     "output_type": "stream",
     "text": [
      "x is currently: 0\n",
      "x is still less than 3, adding 1 to x\n",
      "continuing...\n",
      "x is currently: 1\n",
      "x is still less than 3, adding 1 to x\n",
      "continuing...\n",
      "x is currently: 2\n",
      "x is still less than 3, adding 1 to x\n",
      "breaking because x is equal 3\n"
     ]
    }
   ],
   "source": [
    "x = 0\n",
    "\n",
    "while x<= 3:\n",
    "    print('x is currently:', x)\n",
    "    print('x is still less than 3, adding 1 to x')\n",
    "    x+=1\n",
    "    if x ==3:\n",
    "        print('breaking because x is equal 3')\n",
    "        break\n",
    "    else:\n",
    "        print('continuing...')\n",
    "        continue"
   ]
  },
  {
   "cell_type": "code",
   "execution_count": 70,
   "id": "0fd66687",
   "metadata": {},
   "outputs": [
    {
     "name": "stdout",
     "output_type": "stream",
     "text": [
      "[0, 1, 4, 9, 16, 25, 36, 49, 64, 81]\n"
     ]
    }
   ],
   "source": [
    "squares = []\n",
    "\n",
    "for i in range(10):\n",
    "    squares.append(i*i)\n",
    "print(squares)"
   ]
  },
  {
   "cell_type": "code",
   "execution_count": 71,
   "id": "31b97525",
   "metadata": {},
   "outputs": [
    {
     "name": "stdout",
     "output_type": "stream",
     "text": [
      "[0, 1, 4, 9, 16, 25, 36, 49, 64, 81]\n"
     ]
    }
   ],
   "source": [
    "sq_new = [i*i for i in range(10)]\n",
    "print(sq_new)"
   ]
  },
  {
   "cell_type": "code",
   "execution_count": 72,
   "id": "5170019d",
   "metadata": {},
   "outputs": [
    {
     "name": "stdout",
     "output_type": "stream",
     "text": [
      "[1, 9, 25, 49, 81]\n"
     ]
    }
   ],
   "source": [
    "sq_new_odd = [i*i for i in range(0,10) if i %2 ==1]\n",
    "print(sq_new_odd)"
   ]
  },
  {
   "cell_type": "code",
   "execution_count": 73,
   "id": "980d008a",
   "metadata": {},
   "outputs": [
    {
     "name": "stdout",
     "output_type": "stream",
     "text": [
      "[32.0, 50.0, 122.9, 89.6]\n"
     ]
    }
   ],
   "source": [
    "celsius = [0,10,50.5,32]\n",
    "fahrenheit = [(9/5)*temp + 32 for temp in celsius]\n",
    "print (fahrenheit)"
   ]
  },
  {
   "cell_type": "code",
   "execution_count": 76,
   "id": "efe53e37",
   "metadata": {},
   "outputs": [
    {
     "name": "stdout",
     "output_type": "stream",
     "text": [
      "50\n"
     ]
    }
   ],
   "source": [
    "x = 50 \n",
    "\n",
    "def printNumber():\n",
    "    x = 100 \n",
    "    return x\n",
    "print(x)"
   ]
  },
  {
   "cell_type": "code",
   "execution_count": 80,
   "id": "64099673",
   "metadata": {},
   "outputs": [
    {
     "name": "stdout",
     "output_type": "stream",
     "text": [
      "<map object at 0x7f98db8f9370>\n"
     ]
    }
   ],
   "source": [
    "# Return double of n\n",
    "def addition(n):\n",
    "    return n + n\n",
    "  \n",
    "# We double all numbers using map()\n",
    "numbers = (1, 2, 3, 4)\n",
    "\n",
    "result = map(addition, numbers)\n",
    "print(result)"
   ]
  },
  {
   "cell_type": "code",
   "execution_count": 92,
   "id": "e0dcdf03",
   "metadata": {},
   "outputs": [
    {
     "name": "stdout",
     "output_type": "stream",
     "text": [
      "[2, 4, 6, 8]\n"
     ]
    }
   ],
   "source": [
    "def greeting():\n",
    "    print(\"hello world!\")\n",
    "\n",
    "def addtion(n):\n",
    "    return n + n\n",
    "\n",
    "numbers = (1,2,3,4)\n",
    "\n",
    "result = map(addition, numbers)\n",
    "print(list(result))"
   ]
  },
  {
   "cell_type": "code",
   "execution_count": 100,
   "id": "7ea1ce3d",
   "metadata": {},
   "outputs": [
    {
     "name": "stdout",
     "output_type": "stream",
     "text": [
      "hello Guanhao\n"
     ]
    }
   ],
   "source": [
    "name = \"GLOBAL\"\n",
    "\n",
    "def greeting():\n",
    "    # local to greeting\n",
    "    # enclosing to heello()\n",
    "    name = \"Guanhao\"\n",
    "    def hello():\n",
    "        print(\"hello\", name)\n",
    "    hello()\n",
    "greeting()\n",
    "\n",
    "# cuz L>E>G>B"
   ]
  },
  {
   "cell_type": "code",
   "execution_count": 103,
   "id": "1b06f479",
   "metadata": {},
   "outputs": [
    {
     "name": "stdout",
     "output_type": "stream",
     "text": [
      "Hello LOCAL\n"
     ]
    }
   ],
   "source": [
    "def scope():\n",
    "    name = \"ENCLOSING\"\n",
    "    def call():\n",
    "        name = \"LOCAL\"\n",
    "        print(\"Hello \"+name)\n",
    "    call()\n",
    "scope()"
   ]
  },
  {
   "cell_type": "code",
   "execution_count": null,
   "id": "495c555d",
   "metadata": {},
   "outputs": [],
   "source": []
  }
 ],
 "metadata": {
  "kernelspec": {
   "display_name": "Python 3 (ipykernel)",
   "language": "python",
   "name": "python3"
  },
  "language_info": {
   "codemirror_mode": {
    "name": "ipython",
    "version": 3
   },
   "file_extension": ".py",
   "mimetype": "text/x-python",
   "name": "python",
   "nbconvert_exporter": "python",
   "pygments_lexer": "ipython3",
   "version": "3.9.0"
  }
 },
 "nbformat": 4,
 "nbformat_minor": 5
}
