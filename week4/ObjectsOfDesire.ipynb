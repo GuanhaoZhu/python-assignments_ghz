{
 "cells": [
  {
   "cell_type": "markdown",
   "metadata": {},
   "source": [
    "Create a class object of something that you love. Write at least 3 methods for it. Include some attributes.\n",
    "\n",
    "Items you love can be categorical: \n",
    "\n",
    "* Food  \n",
    "* Pets \n",
    "* Vehicles \n",
    "* Places \n",
    "* Activities \n",
    "* Things \n",
    "\n",
    "See examples below "
   ]
  },
  {
   "cell_type": "code",
   "execution_count": null,
   "metadata": {},
   "outputs": [],
   "source": [
    "# A class with two instance attributes\n",
    "class Item:\n",
    "\n",
    "    # initializer with instance attributes\n",
    "    def __init__(self, color, style):\n",
    "        self.color = color\n",
    "        self.style = style"
   ]
  },
  {
   "cell_type": "code",
   "execution_count": 1,
   "metadata": {},
   "outputs": [],
   "source": [
    "# A class with one class attribute\n",
    "class Car:\n",
    "\n",
    "    # class attribute\n",
    "    wheels = 4\n",
    "\n",
    "    # initializer with instance attributes\n",
    "    def __init__(self, color, style):\n",
    "        self.color = color\n",
    "        self.style = style"
   ]
  },
  {
   "cell_type": "code",
   "execution_count": 1,
   "metadata": {},
   "outputs": [
    {
     "name": "stdout",
     "output_type": "stream",
     "text": [
      "20.82999519307803\n",
      "17.301038062283737\n",
      "5.57742782152231\n"
     ]
    }
   ],
   "source": [
    "class Family:\n",
    "    \n",
    "    lastname_m = 'Zhu'\n",
    "    lastname_f = 'Huang'\n",
    "    \n",
    "    def __init__(self, eyes, hairstyle, height, weight, gender, ages):\n",
    "        self.eyes = eyes\n",
    "        self.hairstyle = hairstyle\n",
    "        self.height = height\n",
    "        self.weight = weight\n",
    "        self.gender = gender\n",
    "        self.ages = ages\n",
    "        \n",
    "    def BMI(self):\n",
    "        return self.weight/(self.height*self.height)\n",
    "    \n",
    "    def convert_height(self):\n",
    "        return (self.height*100)/30.48\n",
    "        \n",
    "Guanhao = Family(eyes='black',hairstyle='long',height=1.7,weight=50,gender='male',ages=27)\n",
    "Yichin = Family(eyes='black',hairstyle='short',height=1.58,weight=52,gender='female',ages=32)\n",
    "\n",
    "print(Yichin.BMI())\n",
    "print(Guanhao.BMI())\n",
    "Guanhao.eyes\n",
    "print(Guanhao.convert_height())"
   ]
  },
  {
   "cell_type": "code",
   "execution_count": null,
   "metadata": {},
   "outputs": [],
   "source": []
  }
 ],
 "metadata": {
  "kernelspec": {
   "display_name": "Python 3 (ipykernel)",
   "language": "python",
   "name": "python3"
  },
  "language_info": {
   "codemirror_mode": {
    "name": "ipython",
    "version": 3
   },
   "file_extension": ".py",
   "mimetype": "text/x-python",
   "name": "python",
   "nbconvert_exporter": "python",
   "pygments_lexer": "ipython3",
   "version": "3.9.0"
  }
 },
 "nbformat": 4,
 "nbformat_minor": 2
}
