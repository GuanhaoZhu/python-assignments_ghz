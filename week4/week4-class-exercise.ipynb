{
 "cells": [
  {
   "cell_type": "markdown",
   "id": "000b0618",
   "metadata": {},
   "source": [
    "# Object Oriented Programming"
   ]
  },
  {
   "cell_type": "code",
   "execution_count": 4,
   "id": "97d04489",
   "metadata": {},
   "outputs": [
    {
     "name": "stdout",
     "output_type": "stream",
     "text": [
      "<class 'int'>\n",
      "<class 'list'>\n",
      "<class 'tuple'>\n",
      "<class 'dict'>\n"
     ]
    }
   ],
   "source": [
    "print(type(1))\n",
    "print(type([]))\n",
    "print(type(()))\n",
    "print(type({}))"
   ]
  },
  {
   "cell_type": "code",
   "execution_count": 6,
   "id": "1acf330d",
   "metadata": {},
   "outputs": [
    {
     "name": "stdout",
     "output_type": "stream",
     "text": [
      "<class '__main__.MyObject'>\n"
     ]
    }
   ],
   "source": [
    "class MyObject:\n",
    "    pass\n",
    "\n",
    "x = MyObject()\n",
    "print(type(x))"
   ]
  },
  {
   "cell_type": "code",
   "execution_count": 7,
   "id": "fbfc37c4",
   "metadata": {},
   "outputs": [],
   "source": [
    "class ClassName:\n",
    "    \n",
    "    def __init__(self):\n",
    "        return\n",
    "    \n",
    "    def method(self):\n",
    "        return"
   ]
  },
  {
   "cell_type": "code",
   "execution_count": 10,
   "id": "914e1862",
   "metadata": {},
   "outputs": [],
   "source": [
    "class ClassName:\n",
    "    \n",
    "    def __init__(self, firstAttribute, secondAttribute, thirdAttribute):\n",
    "        self.firstAttribute = firstAttribute\n",
    "        self.secondAttribute = secondAttribute\n",
    "        self.thirdAttribute = thirdAttribute\n",
    "    \n",
    "classInstancel = ClassName(1,2,3)"
   ]
  },
  {
   "cell_type": "code",
   "execution_count": 12,
   "id": "f4cfec01",
   "metadata": {},
   "outputs": [
    {
     "name": "stdout",
     "output_type": "stream",
     "text": [
      "1\n",
      "2\n",
      "3\n"
     ]
    }
   ],
   "source": [
    "print(classInstancel.firstAttribute)\n",
    "print(classInstancel.secondAttribute)\n",
    "print(classInstancel.thirdAttribute)"
   ]
  },
  {
   "cell_type": "code",
   "execution_count": 16,
   "id": "11238470",
   "metadata": {},
   "outputs": [],
   "source": [
    "class Dog:\n",
    "    \n",
    "    species = 'animal'\n",
    "    def __init__(self,breed,name):\n",
    "        self.breed = breed\n",
    "        self.name = name\n"
   ]
  },
  {
   "cell_type": "code",
   "execution_count": 17,
   "id": "8d897f24",
   "metadata": {},
   "outputs": [],
   "source": [
    "teddy = Dog(breed = \"Cavelier\", name = 'Teddy')"
   ]
  },
  {
   "cell_type": "code",
   "execution_count": 18,
   "id": "16d78534",
   "metadata": {},
   "outputs": [
    {
     "data": {
      "text/plain": [
       "'Teddy'"
      ]
     },
     "execution_count": 18,
     "metadata": {},
     "output_type": "execute_result"
    }
   ],
   "source": [
    "teddy.name"
   ]
  },
  {
   "cell_type": "code",
   "execution_count": 19,
   "id": "26c02c09",
   "metadata": {},
   "outputs": [
    {
     "data": {
      "text/plain": [
       "'animal'"
      ]
     },
     "execution_count": 19,
     "metadata": {},
     "output_type": "execute_result"
    }
   ],
   "source": [
    "teddy.species"
   ]
  },
  {
   "cell_type": "code",
   "execution_count": 20,
   "id": "08ac5305",
   "metadata": {},
   "outputs": [],
   "source": [
    "class ClassName:\n",
    "    \n",
    "    def __init__(self,num1,num2):\n",
    "        self.num1 = num1\n",
    "        self.num2 = num2\n",
    "        \n",
    "    def sum(self):\n",
    "        return self.num1 + self.num2"
   ]
  },
  {
   "cell_type": "code",
   "execution_count": 21,
   "id": "a4e86390",
   "metadata": {},
   "outputs": [
    {
     "name": "stdout",
     "output_type": "stream",
     "text": [
      "3\n"
     ]
    }
   ],
   "source": [
    "instance = ClassName(1,2)\n",
    "print(instance.sum())"
   ]
  },
  {
   "cell_type": "code",
   "execution_count": null,
   "id": "d98acaa5",
   "metadata": {},
   "outputs": [],
   "source": []
  }
 ],
 "metadata": {
  "kernelspec": {
   "display_name": "Python 3 (ipykernel)",
   "language": "python",
   "name": "python3"
  },
  "language_info": {
   "codemirror_mode": {
    "name": "ipython",
    "version": 3
   },
   "file_extension": ".py",
   "mimetype": "text/x-python",
   "name": "python",
   "nbconvert_exporter": "python",
   "pygments_lexer": "ipython3",
   "version": "3.9.0"
  }
 },
 "nbformat": 4,
 "nbformat_minor": 5
}
